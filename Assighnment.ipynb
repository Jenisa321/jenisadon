{
 "cells": [
  {
   "cell_type": "code",
   "execution_count": 3,
   "id": "11765c7a-67f3-4481-b7d7-d90728e93cb5",
   "metadata": {},
   "outputs": [
    {
     "name": "stdout",
     "output_type": "stream",
     "text": [
      "Simple Calculator\n",
      "Operations available:\n",
      "1. Addition (+)\n",
      "2. Subtraction (-)\n",
      "3. Multiplication (*)\n",
      "4. Division (/)\n",
      "5. Exit\n"
     ]
    },
    {
     "name": "stdin",
     "output_type": "stream",
     "text": [
      "Enter operation (1/2/3/4/5):  1\n",
      "Enter first number:  4\n",
      "Enter second number:  5\n"
     ]
    },
    {
     "name": "stdout",
     "output_type": "stream",
     "text": [
      "Result: 4.0 + 5.0 = 9.0\n"
     ]
    },
    {
     "name": "stdin",
     "output_type": "stream",
     "text": [
      "Enter operation (1/2/3/4/5):  5\n"
     ]
    },
    {
     "name": "stdout",
     "output_type": "stream",
     "text": [
      "Exiting calculator. Goodbye!\n"
     ]
    }
   ],
   "source": [
    "def calculator():\n",
    "    print(\"Simple Calculator\")\n",
    "    print(\"Operations available:\")\n",
    "    print(\"1. Addition (+)\")\n",
    "    print(\"2. Subtraction (-)\")\n",
    "    print(\"3. Multiplication (*)\")\n",
    "    print(\"4. Division (/)\")\n",
    "    print(\"5. Exit\")\n",
    "    \n",
    "    while True:\n",
    "        try:\n",
    "            # Get user input for operation\n",
    "            choice = input(\"Enter operation (1/2/3/4/5): \")\n",
    "            \n",
    "            if choice == '5':\n",
    "                print(\"Exiting calculator. Goodbye!\")\n",
    "                break\n",
    "                \n",
    "            if choice not in ('1', '2', '3', '4'):\n",
    "                print(\"Invalid input. Please enter 1, 2, 3, 4, or 5.\")\n",
    "                continue\n",
    "                \n",
    "            # Get two numbers from user\n",
    "            num1 = float(input(\"Enter first number: \"))\n",
    "            num2 = float(input(\"Enter second number: \"))\n",
    "            \n",
    "            # Perform the selected operation\n",
    "            if choice == '1':\n",
    "                print(f\"Result: {num1} + {num2} = {num1 + num2}\")\n",
    "            elif choice == '2':\n",
    "                print(f\"Result: {num1} - {num2} = {num1 - num2}\")\n",
    "            elif choice == '3':\n",
    "                print(f\"Result: {num1} * {num2} = {num1 * num2}\")\n",
    "            elif choice == '4':\n",
    "                if num2 == 0:\n",
    "                    print(\"Error! Division by zero is not allowed.\")\n",
    "                else:\n",
    "                    print(f\"Result: {num1} / {num2} = {num1 / num2}\")\n",
    "                    \n",
    "        except ValueError:\n",
    "            print(\"Invalid input. Please enter numeric values.\")\n",
    "        except Exception as e:\n",
    "            print(f\"An error occurred: {e}\")\n",
    "\n",
    "# Run the calculator\n",
    "calculator()"
   ]
  },
  {
   "cell_type": "code",
   "execution_count": 3,
   "id": "f218b4a0-d334-43e0-8600-af4a8397b602",
   "metadata": {},
   "outputs": [
    {
     "name": "stdout",
     "output_type": "stream",
     "text": [
      "Simple Calculator\n",
      "Operations available:\n",
      "1. Addition (+)\n",
      "2. Subtraction (-)\n",
      "3. Multiplication (*)\n",
      "4. Division (/)\n",
      "5. Exit\n"
     ]
    },
    {
     "name": "stdin",
     "output_type": "stream",
     "text": [
      "Enter operation (1/2/3/4/5):  1\n",
      "Enter first number:  4\n",
      "Enter second number:  5\n"
     ]
    },
    {
     "name": "stdout",
     "output_type": "stream",
     "text": [
      "Result: 4.0 + 5.0 = 9.0\n"
     ]
    },
    {
     "name": "stdin",
     "output_type": "stream",
     "text": [
      "Enter operation (1/2/3/4/5):  5\n"
     ]
    },
    {
     "name": "stdout",
     "output_type": "stream",
     "text": [
      "Exiting calculator. Goodbye!\n"
     ]
    }
   ],
   "source": [
    "def calculator():\n",
    "    print(\"Simple Calculator\")\n",
    "    print(\"Operations available:\")\n",
    "    print(\"1. Addition (+)\")\n",
    "    print(\"2. Subtraction (-)\")\n",
    "    print(\"3. Multiplication (*)\")\n",
    "    print(\"4. Division (/)\")\n",
    "    print(\"5. Exit\")\n",
    "    \n",
    "    while True:\n",
    "        try:\n",
    "            # Get user input for operation\n",
    "            choice = input(\"Enter operation (1/2/3/4/5): \")\n",
    "            \n",
    "            if choice == '5':\n",
    "                print(\"Exiting calculator. Goodbye!\")\n",
    "                break\n",
    "                \n",
    "            if choice not in ('1', '2', '3', '4'):\n",
    "                print(\"Invalid input. Please enter 1, 2, 3, 4, or 5.\")\n",
    "                continue\n",
    "                \n",
    "            # Get two numbers from user\n",
    "            num1 = float(input(\"Enter first number: \"))\n",
    "            num2 = float(input(\"Enter second number: \"))\n",
    "            \n",
    "            # Perform the selected operation\n",
    "            if choice == '1':\n",
    "                print(f\"Result: {num1} + {num2} = {num1 + num2}\")\n",
    "            elif choice == '2':\n",
    "                print(f\"Result: {num1} - {num2} = {num1 - num2}\")\n",
    "            elif choice == '3':\n",
    "                print(f\"Result: {num1} * {num2} = {num1 * num2}\")\n",
    "            elif choice == '4':\n",
    "                if num2 == 0:\n",
    "                    print(\"Error! Division by zero is not allowed.\")\n",
    "                else:\n",
    "                    print(f\"Result: {num1} / {num2} = {num1 / num2}\")\n",
    "                    \n",
    "        except ValueError:\n",
    "            print(\"Invalid input. Please enter numeric values.\")\n",
    "        except Exception as e:\n",
    "            print(f\"An error occurred: {e}\")\n",
    "\n",
    "# Run the calculator\n",
    "calculator()"
   ]
  },
  {
   "cell_type": "code",
   "execution_count": 4,
   "id": "2994546e-f4b8-49d9-9abb-11ffc85632f8",
   "metadata": {},
   "outputs": [
    {
     "name": "stdout",
     "output_type": "stream",
     "text": [
      "a = 10\n",
      "b = 5\n"
     ]
    }
   ],
   "source": [
    "#swap two variable\n",
    "a = 5\n",
    "b = 10\n",
    "\n",
    "a, b = b, a  # Swap in one line\n",
    "\n",
    "print(\"a =\", a)  # Output: a = 10\n",
    "print(\"b =\", b)  # Output: b = 5"
   ]
  },
  {
   "cell_type": "code",
   "execution_count": 5,
   "id": "ce4e49ee-86ba-4aa0-99b8-7aebb3cd57f5",
   "metadata": {},
   "outputs": [
    {
     "name": "stdout",
     "output_type": "stream",
     "text": [
      "First 10 Fibonacci numbers:\n",
      "0 1 1 2 3 5 8 13 21 34 "
     ]
    }
   ],
   "source": [
    "#print first 10 fibonacci series\n",
    "# Initialize the first two Fibonacci numbers\n",
    "a, b = 0, 1\n",
    "\n",
    "print(\"First 10 Fibonacci numbers:\")\n",
    "for _ in range(10):\n",
    "    print(a, end=\" \")\n",
    "    a, b = b, a + b  # Update values for next iteration"
   ]
  },
  {
   "cell_type": "code",
   "execution_count": 6,
   "id": "a020c960-a4d3-42f3-b574-59eadd6f0efd",
   "metadata": {},
   "outputs": [
    {
     "name": "stdin",
     "output_type": "stream",
     "text": [
      "Enter a number:  8\n"
     ]
    },
    {
     "name": "stdout",
     "output_type": "stream",
     "text": [
      "8 is not a prime number\n"
     ]
    }
   ],
   "source": [
    "#check prime number or not\n",
    "def is_prime(n):\n",
    "    if n <= 1:\n",
    "        return False\n",
    "    for i in range(2, n):\n",
    "        if n % i == 0:\n",
    "            return False\n",
    "    return True\n",
    "\n",
    "# Test the function\n",
    "num = int(input(\"Enter a number: \"))\n",
    "if is_prime(num):\n",
    "    print(f\"{num} is a prime number\")\n",
    "else:\n",
    "    print(f\"{num} is not a prime number\")"
   ]
  },
  {
   "cell_type": "code",
   "execution_count": 7,
   "id": "4ccf18ac-95a7-4b24-8ebc-7087489c59ff",
   "metadata": {},
   "outputs": [
    {
     "name": "stdin",
     "output_type": "stream",
     "text": [
      "Enter first number:  5\n",
      "Enter second number:  6\n",
      "Enter third number:  12\n"
     ]
    },
    {
     "name": "stdout",
     "output_type": "stream",
     "text": [
      "5 + 6 ≠ 12\n"
     ]
    }
   ],
   "source": [
    "#two number is equal to third number\n",
    "def check_sum(a, b, c):\n",
    "    return a + b == c\n",
    "\n",
    "# Example usage\n",
    "num1 = int(input(\"Enter first number: \"))\n",
    "num2 = int(input(\"Enter second number: \"))\n",
    "num3 = int(input(\"Enter third number: \"))\n",
    "\n",
    "if check_sum(num1, num2, num3):\n",
    "    print(f\"{num1} + {num2} = {num3}\")\n",
    "else:\n",
    "    print(f\"{num1} + {num2} ≠ {num3}\")"
   ]
  },
  {
   "cell_type": "code",
   "execution_count": 8,
   "id": "0c5e9a67-5918-4148-aef8-a8fa48979b1e",
   "metadata": {},
   "outputs": [
    {
     "name": "stdout",
     "output_type": "stream",
     "text": [
      "Number of vowels: 3\n"
     ]
    }
   ],
   "source": [
    "#count number of vowels in string\n",
    "def count_vowels(text):\n",
    "    vowels = \"aeiouAEIOU\"\n",
    "    count = 0\n",
    "    for char in text:\n",
    "        if char in vowels:\n",
    "            count += 1\n",
    "    return count\n",
    "\n",
    "# Example usage\n",
    "string = \"Hello, World!\"\n",
    "print(f\"Number of vowels: {count_vowels(string)}\")"
   ]
  },
  {
   "cell_type": "code",
   "execution_count": 9,
   "id": "3f101f6a-ef86-4658-993e-fabaecd3c760",
   "metadata": {},
   "outputs": [
    {
     "name": "stdin",
     "output_type": "stream",
     "text": [
      "Enter a number:  8\n"
     ]
    },
    {
     "name": "stdout",
     "output_type": "stream",
     "text": [
      "Multiplication Table of 8:\n",
      "8 × 1 = 8\n",
      "8 × 2 = 16\n",
      "8 × 3 = 24\n",
      "8 × 4 = 32\n",
      "8 × 5 = 40\n",
      "8 × 6 = 48\n",
      "8 × 7 = 56\n",
      "8 × 8 = 64\n",
      "8 × 9 = 72\n",
      "8 × 10 = 80\n"
     ]
    }
   ],
   "source": [
    "#multiplication table of number\n",
    "def multiplication_table(n, limit=10):\n",
    "    print(f\"Multiplication Table of {n}:\")\n",
    "    for i in range(1, limit+1):\n",
    "        print(f\"{n} × {i} = {n*i}\")\n",
    "\n",
    "# Example usage\n",
    "num = int(input(\"Enter a number: \"))\n",
    "multiplication_table(num)"
   ]
  },
  {
   "cell_type": "code",
   "execution_count": 10,
   "id": "d511a7f2-aade-4ef4-a788-898f4c26887d",
   "metadata": {},
   "outputs": [
    {
     "name": "stdout",
     "output_type": "stream",
     "text": [
      "*\n",
      "**\n",
      "***\n",
      "****\n",
      "*****\n"
     ]
    }
   ],
   "source": [
    "#Right angle Triangle\n",
    "n = 5  # Height of the triangle\n",
    "for i in range(1, n+1):\n",
    "    for j in range(1, i+1):\n",
    "        print('*', end='')\n",
    "    print()"
   ]
  },
  {
   "cell_type": "code",
   "execution_count": 11,
   "id": "fe05aa65-f217-4108-87f5-80d1016164c1",
   "metadata": {},
   "outputs": [
    {
     "name": "stdout",
     "output_type": "stream",
     "text": [
      "    *\n",
      "   ***\n",
      "  *****\n",
      " *******\n",
      "*********\n"
     ]
    }
   ],
   "source": [
    "#pyramid pattern\n",
    "n = 5  # Height of the pyramid\n",
    "for i in range(1, n+1):\n",
    "    # Print spaces\n",
    "    print(' ' * (n - i), end='')\n",
    "    # Print stars\n",
    "    print('*' * (2*i - 1))"
   ]
  },
  {
   "cell_type": "code",
   "execution_count": 12,
   "id": "bae6b42b-64ad-47be-bcbd-f7a2fc5261e0",
   "metadata": {},
   "outputs": [
    {
     "name": "stdout",
     "output_type": "stream",
     "text": [
      "The maximum number is: 67\n"
     ]
    }
   ],
   "source": [
    "#max number\n",
    "numbers = [12, 45, 23, 67, 34]\n",
    "max_num = numbers[0]  # Assume first number is largest\n",
    "\n",
    "for num in numbers:\n",
    "    if num > max_num:\n",
    "        max_num = num\n",
    "\n",
    "print(f\"The maximum number is: {max_num}\")"
   ]
  },
  {
   "cell_type": "code",
   "execution_count": 13,
   "id": "eafb10cd-fe97-46c6-8770-85c60d23c1a0",
   "metadata": {},
   "outputs": [
    {
     "name": "stdout",
     "output_type": "stream",
     "text": [
      "True\n",
      "False\n"
     ]
    }
   ],
   "source": [
    "#leet code problems\n",
    "#plaindrome number\n",
    "def is_palindrome(num):\n",
    "    original = num\n",
    "    reversed_num = 0\n",
    "    \n",
    "    if num < 0:\n",
    "        return False  # Negative numbers can't be palindromes\n",
    "    \n",
    "    while num > 0:\n",
    "        digit = num % 10\n",
    "        reversed_num = reversed_num * 10 + digit\n",
    "        num = num // 10\n",
    "    \n",
    "    return original == reversed_num\n",
    "\n",
    "# Test\n",
    "print(is_palindrome(12321))  # True\n",
    "print(is_palindrome(12345))  # False"
   ]
  },
  {
   "cell_type": "code",
   "execution_count": 15,
   "id": "aa10a84c-99cc-4666-a1cb-cefe6a9e9ab3",
   "metadata": {},
   "outputs": [],
   "source": [
    "def single_number(nums):\n",
    "    result=0\n",
    "    for num in nums:\n",
    "        result ^=num\n",
    "        return result\n",
    "        nums=[2,2,1]\n",
    "        print(single_number(nums))"
   ]
  },
  {
   "cell_type": "code",
   "execution_count": 16,
   "id": "382c207b-a332-4fc0-896c-6f6fd041c44d",
   "metadata": {},
   "outputs": [],
   "source": [
    "def contains_duplicate(nums):\n",
    "    return len(nums)!=len(set(nums))\n",
    "    nums=[1,1,2,3]\n",
    "    print(contains_duplicate(nums))\n",
    "\n",
    "\n"
   ]
  },
  {
   "cell_type": "code",
   "execution_count": 17,
   "id": "d83813d6-ff44-4bab-8a15-1aad7d5279ec",
   "metadata": {
    "scrolled": true
   },
   "outputs": [
    {
     "name": "stdout",
     "output_type": "stream",
     "text": [
      "Happy numbers between 1 and 100:\n",
      "1 "
     ]
    },
    {
     "ename": "TypeError",
     "evalue": "'int' object is not callable",
     "output_type": "error",
     "traceback": [
      "\u001b[1;31m---------------------------------------------------------------------------\u001b[0m",
      "\u001b[1;31mTypeError\u001b[0m                                 Traceback (most recent call last)",
      "Cell \u001b[1;32mIn[17], line 12\u001b[0m\n\u001b[0;32m     10\u001b[0m \u001b[38;5;28mprint\u001b[39m(\u001b[38;5;124m\"\u001b[39m\u001b[38;5;124mHappy numbers between 1 and 100:\u001b[39m\u001b[38;5;124m\"\u001b[39m)\n\u001b[0;32m     11\u001b[0m \u001b[38;5;28;01mfor\u001b[39;00m num \u001b[38;5;129;01min\u001b[39;00m \u001b[38;5;28mrange\u001b[39m(\u001b[38;5;241m1\u001b[39m, \u001b[38;5;241m101\u001b[39m):\n\u001b[1;32m---> 12\u001b[0m     \u001b[38;5;28;01mif\u001b[39;00m is_happy(num):\n\u001b[0;32m     13\u001b[0m         \u001b[38;5;28mprint\u001b[39m(num, end\u001b[38;5;241m=\u001b[39m\u001b[38;5;124m\"\u001b[39m\u001b[38;5;124m \u001b[39m\u001b[38;5;124m\"\u001b[39m)\n",
      "Cell \u001b[1;32mIn[17], line 6\u001b[0m, in \u001b[0;36mis_happy\u001b[1;34m(n)\u001b[0m\n\u001b[0;32m      4\u001b[0m \u001b[38;5;28;01mwhile\u001b[39;00m n \u001b[38;5;241m!=\u001b[39m \u001b[38;5;241m1\u001b[39m \u001b[38;5;129;01mand\u001b[39;00m n \u001b[38;5;129;01mnot\u001b[39;00m \u001b[38;5;129;01min\u001b[39;00m seen:\n\u001b[0;32m      5\u001b[0m     seen\u001b[38;5;241m.\u001b[39madd(n)\n\u001b[1;32m----> 6\u001b[0m     n \u001b[38;5;241m=\u001b[39m \u001b[38;5;28msum\u001b[39m(\u001b[38;5;28mint\u001b[39m(d)\u001b[38;5;241m*\u001b[39m\u001b[38;5;241m*\u001b[39m\u001b[38;5;241m2\u001b[39m \u001b[38;5;28;01mfor\u001b[39;00m d \u001b[38;5;129;01min\u001b[39;00m \u001b[38;5;28mstr\u001b[39m(n))\n\u001b[0;32m      7\u001b[0m \u001b[38;5;28;01mreturn\u001b[39;00m n \u001b[38;5;241m==\u001b[39m \u001b[38;5;241m1\u001b[39m\n",
      "\u001b[1;31mTypeError\u001b[0m: 'int' object is not callable"
     ]
    }
   ],
   "source": [
    "#happy number\n",
    "def is_happy(n):\n",
    "    seen = set()\n",
    "    while n != 1 and n not in seen:\n",
    "        seen.add(n)\n",
    "        n = sum(int(d)**2 for d in str(n))\n",
    "    return n == 1\n",
    "\n",
    "# Print happy numbers between 1 and 100\n",
    "print(\"Happy numbers between 1 and 100:\")\n",
    "for num in range(1, 101):\n",
    "    if is_happy(num):\n",
    "        print(num, end=\" \")"
   ]
  },
  {
   "cell_type": "code",
   "execution_count": null,
   "id": "9c39ca87-bdaf-4303-ac0b-00380e48a35c",
   "metadata": {},
   "outputs": [],
   "source": []
  }
 ],
 "metadata": {
  "kernelspec": {
   "display_name": "Python [conda env:base]",
   "language": "python",
   "name": "conda-base-py"
  },
  "language_info": {
   "codemirror_mode": {
    "name": "ipython",
    "version": 3
   },
   "file_extension": ".py",
   "mimetype": "text/x-python",
   "name": "python",
   "nbconvert_exporter": "python",
   "pygments_lexer": "ipython3",
   "version": "3.13.5"
  }
 },
 "nbformat": 4,
 "nbformat_minor": 5
}
